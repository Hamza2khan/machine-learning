{
  "cells": [
    {
      "cell_type": "code",
      "execution_count": 1,
      "id": "51b82f26",
      "metadata": {
        "id": "51b82f26"
      },
      "outputs": [],
      "source": [
        "import numpy as np\n",
        "\n",
        "# Step function\n",
        "def step_function(x):\n",
        "    return 1 if x >= 0 else 0"
      ]
    },
    {
      "cell_type": "code",
      "execution_count": 2,
      "id": "23d38088",
      "metadata": {
        "id": "23d38088"
      },
      "outputs": [],
      "source": [
        "# Train the perceptron\n",
        "def train_perceptron(X, y, learning_rate=0.1, epochs=10):\n",
        "    num_features = X.shape[1]  # Number of features (now 3)\n",
        "    weights = np.zeros(num_features + 1)  # Include bias\n",
        "\n",
        "    for epoch in range(epochs):\n",
        "        total_error = 0\n",
        "        for i in range(len(X)):\n",
        "            x_with_bias = np.insert(X[i], 0, 1)  # Add bias term\n",
        "            weighted_sum = np.dot(weights, x_with_bias)\n",
        "            y_pred = step_function(weighted_sum)\n",
        "            error = y[i] - y_pred\n",
        "            total_error += abs(error)\n",
        "            weights += learning_rate * error * x_with_bias\n",
        "\n",
        "        print(f\"Epoch {epoch+1}: Weights = {weights}, Error = {total_error}\")\n",
        "        if total_error == 0:\n",
        "            break\n",
        "\n",
        "    return weights"
      ]
    },
    {
      "cell_type": "code",
      "execution_count": 3,
      "id": "3cfa6ffa",
      "metadata": {
        "id": "3cfa6ffa"
      },
      "outputs": [],
      "source": [
        "# Predict outputs\n",
        "def predict(X, weights):\n",
        "    results = []\n",
        "    for i in range(len(X)):\n",
        "        x_with_bias = np.insert(X[i], 0, 1)\n",
        "        weighted_sum = np.dot(weights, x_with_bias)\n",
        "        y_pred = step_function(weighted_sum)\n",
        "        results.append(y_pred)\n",
        "    return results"
      ]
    },
    {
      "cell_type": "code",
      "execution_count": 4,
      "id": "baf04f00",
      "metadata": {
        "id": "baf04f00"
      },
      "outputs": [],
      "source": [
        "# 3-Input OR Gate dataset\n",
        "X = np.array([\n",
        "    [0, 0, 0],  # All 0s\n",
        "    [0, 0, 1],  # One 1\n",
        "    [0, 1, 0],\n",
        "    [0, 1, 1],\n",
        "    [1, 0, 0],\n",
        "    [1, 0, 1],\n",
        "    [1, 1, 0],\n",
        "    [1, 1, 1]   # All 1s\n",
        "])\n",
        "y = np.array([0, 1, 1, 1, 1, 1, 1, 1])  # Output: 0 only when all inputs are 0"
      ]
    },
    {
      "cell_type": "code",
      "execution_count": 5,
      "id": "686cb0d7",
      "metadata": {
        "id": "686cb0d7",
        "outputId": "7ca737e0-70ed-4f91-d5bd-e5ddab1bb8f2",
        "colab": {
          "base_uri": "https://localhost:8080/"
        }
      },
      "outputs": [
        {
          "output_type": "stream",
          "name": "stdout",
          "text": [
            "Epoch 1: Weights = [0.  0.  0.  0.1], Error = 2\n",
            "Epoch 2: Weights = [0.  0.  0.1 0.1], Error = 2\n",
            "Epoch 3: Weights = [0.  0.1 0.1 0.1], Error = 2\n",
            "Epoch 4: Weights = [-0.1  0.1  0.1  0.1], Error = 1\n",
            "Epoch 5: Weights = [-0.1  0.1  0.1  0.1], Error = 0\n",
            "\n",
            "Results:\n",
            "Input: [0 0 0], Predicted: 0, Actual: 0\n",
            "Input: [0 0 1], Predicted: 1, Actual: 1\n",
            "Input: [0 1 0], Predicted: 1, Actual: 1\n",
            "Input: [0 1 1], Predicted: 1, Actual: 1\n",
            "Input: [1 0 0], Predicted: 1, Actual: 1\n",
            "Input: [1 0 1], Predicted: 1, Actual: 1\n",
            "Input: [1 1 0], Predicted: 1, Actual: 1\n",
            "Input: [1 1 1], Predicted: 1, Actual: 1\n"
          ]
        }
      ],
      "source": [
        "# Train the perceptron\n",
        "weights = train_perceptron(X, y)\n",
        "\n",
        "# Test results\n",
        "results = predict(X, weights)\n",
        "print(\"\\nResults:\")\n",
        "for i in range(len(X)):\n",
        "    print(f\"Input: {X[i]}, Predicted: {results[i]}, Actual: {y[i]}\")"
      ]
    },
    {
      "cell_type": "code",
      "execution_count": 5,
      "id": "666de116",
      "metadata": {
        "id": "666de116"
      },
      "outputs": [],
      "source": []
    }
  ],
  "metadata": {
    "colab": {
      "provenance": []
    },
    "language_info": {
      "name": "python"
    },
    "kernelspec": {
      "name": "python3",
      "display_name": "Python 3"
    }
  },
  "nbformat": 4,
  "nbformat_minor": 5
}